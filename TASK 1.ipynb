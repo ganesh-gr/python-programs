{
 "cells": [
  {
   "cell_type": "code",
   "execution_count": 1,
   "id": "0486995f-e0fe-4a90-83ff-82b580dee307",
   "metadata": {},
   "outputs": [
    {
     "name": "stdout",
     "output_type": "stream",
     "text": [
      "Sum: 15, Difference: 5, Product: 50, Division: 2.0\n"
     ]
    }
   ],
   "source": [
    "# Arithmetic operations\n",
    "a = 10\n",
    "b = 5\n",
    "\n",
    "sum_result = a + b\n",
    "difference = a - b\n",
    "product = a * b\n",
    "division = a / b\n",
    "\n",
    "# Print results\n",
    "print(f\"Sum: {sum_result}, Difference: {difference}, Product: {product}, Division: {division:}\")"
   ]
  },
  {
   "cell_type": "code",
   "execution_count": 11,
   "id": "c162cdd4-10d9-499a-9f61-564a680f0a01",
   "metadata": {},
   "outputs": [
    {
     "name": "stdout",
     "output_type": "stream",
     "text": [
      "FULL NAME: reddyganesh\n"
     ]
    }
   ],
   "source": [
    "# String manipulation\n",
    "first = \"reddy\"\n",
    "second = \"ganesh\"\n",
    "name= first + second\n",
    "print(f\"FULL NAME: {name}\")"
   ]
  },
  {
   "cell_type": "code",
   "execution_count": 13,
   "id": "9ac21b3f-b0ea-4912-aacc-03a9a366f6d8",
   "metadata": {},
   "outputs": [
    {
     "name": "stdout",
     "output_type": "stream",
     "text": [
      "10 is greater than 5\n"
     ]
    }
   ],
   "source": [
    "# Conditional statements\n",
    "if a > b:\n",
    "    print(f\"{a} is greater than {b}\")\n",
    "else:\n",
    "    print(f\"{b} is greater than or equal to {a}\")"
   ]
  },
  {
   "cell_type": "code",
   "execution_count": 5,
   "id": "a18cf493-50f1-4d32-9f91-04134f9c2933",
   "metadata": {},
   "outputs": [
    {
     "name": "stdout",
     "output_type": "stream",
     "text": [
      "Fruits list: ['kiwi', 'banana', 'blueberry']\n",
      "Fruits list: ['kiwi', 'blueberry', 'pineapple']\n"
     ]
    }
   ],
   "source": [
    "# List example\n",
    "fruits = [\"kiwi\", \"banana\", \"blueberry\"]\n",
    "print(\"Fruits list:\", fruits)\n",
    "fruits.append(\"pineapple\")\n",
    "fruits.remove(\"banana\")     \n",
    "print(\"Fruits list:\", fruits)"
   ]
  },
  {
   "cell_type": "code",
   "execution_count": 7,
   "id": "99f1eff6-d8ff-48bd-a465-a5f90216cc39",
   "metadata": {},
   "outputs": [
    {
     "name": "stdout",
     "output_type": "stream",
     "text": [
      "Student Dictionary: {'name': 'gani', 'age': 20, 'grade': 'A', 'Loc': 'tirupati'}\n",
      "Student Dictionary: {'name': 'gani', 'grade': 'A', 'Loc': 'tirupati', 'gender': 'male', 'loc': 'tirumala'}\n"
     ]
    }
   ],
   "source": [
    "# Dictionary example\n",
    "student = {\"name\": \"gani\", \"age\": 20, \"grade\": \"A\",\"Loc\":\"tirupati\"}\n",
    "print(\"Student Dictionary:\", student)\n",
    "student['gender'] = 'male'\n",
    "del student['age']\n",
    "student['loc'] = 'tirumala'\n",
    "print(\"Student Dictionary:\", student)"
   ]
  },
  {
   "cell_type": "code",
   "execution_count": 9,
   "id": "7dfdf4fa-9c95-4c2b-bacf-b571cf818e99",
   "metadata": {},
   "outputs": [
    {
     "name": "stdout",
     "output_type": "stream",
     "text": [
      "Numbers tuple: (10, 20, 30, 40)\n",
      "Numbers tuple after modification: (10, 30, 40, 50)\n"
     ]
    }
   ],
   "source": [
    "# Creating a tuple with numbers\n",
    "numbers = (10, 20, 30, 40)\n",
    "print(\"Numbers tuple:\", numbers)\n",
    "\n",
    "# Converting the tuple to a list to modify it\n",
    "numbers_list = list(numbers)\n",
    "\n",
    "# Appending a number and removing a number\n",
    "numbers_list.append(50)\n",
    "numbers_list.remove(20)\n",
    "\n",
    "# Converting the list back to a tuple\n",
    "numbers = tuple(numbers_list)\n",
    "print(\"Numbers tuple after modification:\", numbers)\n"
   ]
  }
 ],
 "metadata": {
  "kernelspec": {
   "display_name": "Python 3 (ipykernel)",
   "language": "python",
   "name": "python3"
  },
  "language_info": {
   "codemirror_mode": {
    "name": "ipython",
    "version": 3
   },
   "file_extension": ".py",
   "mimetype": "text/x-python",
   "name": "python",
   "nbconvert_exporter": "python",
   "pygments_lexer": "ipython3",
   "version": "3.12.4"
  }
 },
 "nbformat": 4,
 "nbformat_minor": 5
}
